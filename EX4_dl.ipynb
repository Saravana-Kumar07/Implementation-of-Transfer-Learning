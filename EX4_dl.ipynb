{
  "cells": [
    {
      "cell_type": "code",
      "execution_count": 2,
      "metadata": {
        "id": "POuRHOIcP3su"
      },
      "outputs": [],
      "source": [
        "import tensorflow as tf\n",
        "from tensorflow.keras.datasets import cifar10\n",
        "from tensorflow.keras.applications import VGG19\n",
        "from tensorflow.keras.models import Sequential\n",
        "from tensorflow.keras.layers import Dense, Flatten, Dropout\n",
        "from tensorflow.keras.optimizers import Adam\n",
        "from tensorflow.keras.callbacks import ReduceLROnPlateau"
      ]
    },
    {
      "cell_type": "code",
      "execution_count": 3,
      "metadata": {
        "colab": {
          "base_uri": "https://localhost:8080/"
        },
        "id": "FwrKv0LEVLPA",
        "outputId": "5d6778df-4d9f-45f5-90d5-128d8fac782f"
      },
      "outputs": [
        {
          "output_type": "stream",
          "name": "stdout",
          "text": [
            "Downloading data from https://www.cs.toronto.edu/~kriz/cifar-10-python.tar.gz\n",
            "170498071/170498071 [==============================] - 3s 0us/step\n"
          ]
        }
      ],
      "source": [
        "(x_train,y_train),(x_test,y_test)=cifar10.load_data()"
      ]
    },
    {
      "cell_type": "code",
      "execution_count": 4,
      "metadata": {
        "id": "OAWJA27sVdm1"
      },
      "outputs": [],
      "source": [
        "x_train = x_train.astype('float32') / 255.0\n",
        "x_test = x_test.astype('float32') / 255.0"
      ]
    },
    {
      "cell_type": "code",
      "execution_count": 5,
      "metadata": {
        "colab": {
          "base_uri": "https://localhost:8080/"
        },
        "id": "_huP_dF0XS49",
        "outputId": "7c48a6b5-61ae-48c3-8790-2135f83699f6"
      },
      "outputs": [
        {
          "output_type": "stream",
          "name": "stdout",
          "text": [
            "Downloading data from https://storage.googleapis.com/tensorflow/keras-applications/vgg19/vgg19_weights_tf_dim_ordering_tf_kernels_notop.h5\n",
            "80134624/80134624 [==============================] - 0s 0us/step\n"
          ]
        }
      ],
      "source": [
        "base_model=VGG19(\n",
        "    include_top=False,\n",
        "    weights='imagenet',\n",
        "    input_shape=(32,32,3)\n",
        ")"
      ]
    },
    {
      "cell_type": "code",
      "execution_count": 6,
      "metadata": {
        "id": "f-lox_TkX_ec"
      },
      "outputs": [],
      "source": [
        "for layer in base_model.layers:\n",
        "  layer.trainable = False"
      ]
    },
    {
      "cell_type": "code",
      "execution_count": 7,
      "metadata": {
        "id": "piu1PbR1YNA7"
      },
      "outputs": [],
      "source": [
        "model=Sequential()\n",
        "model.add(base_model)\n",
        "model.add(Flatten())\n",
        "model.add(Dense(256,activation=('relu')))\n",
        "model.add(Dense(10,activation=('softmax')))"
      ]
    },
    {
      "cell_type": "code",
      "execution_count": 8,
      "metadata": {
        "colab": {
          "base_uri": "https://localhost:8080/"
        },
        "id": "rXuuZz9Xr_bc",
        "outputId": "35ec7e28-1167-44c3-8e8e-6ee8520f73fb"
      },
      "outputs": [
        {
          "output_type": "stream",
          "name": "stdout",
          "text": [
            "Model: \"sequential\"\n",
            "_________________________________________________________________\n",
            " Layer (type)                Output Shape              Param #   \n",
            "=================================================================\n",
            " vgg19 (Functional)          (None, 1, 1, 512)         20024384  \n",
            "                                                                 \n",
            " flatten (Flatten)           (None, 512)               0         \n",
            "                                                                 \n",
            " dense (Dense)               (None, 256)               131328    \n",
            "                                                                 \n",
            " dense_1 (Dense)             (None, 10)                2570      \n",
            "                                                                 \n",
            "=================================================================\n",
            "Total params: 20,158,282\n",
            "Trainable params: 133,898\n",
            "Non-trainable params: 20,024,384\n",
            "_________________________________________________________________\n"
          ]
        }
      ],
      "source": [
        "model.summary()"
      ]
    },
    {
      "cell_type": "code",
      "execution_count": 9,
      "metadata": {
        "id": "diM4WYahZNoj"
      },
      "outputs": [],
      "source": [
        "model.compile(optimizer=Adam(learning_rate=0.001), loss='sparse_categorical_crossentropy', metrics=['accuracy'])"
      ]
    },
    {
      "cell_type": "code",
      "execution_count": 10,
      "metadata": {
        "id": "K_lBKlmdZ6xs"
      },
      "outputs": [],
      "source": [
        "learning_rate_reduction = ReduceLROnPlateau(monitor='val_accuracy', patience=3, verbose=1, factor=0.5, min_lr=0.00001)"
      ]
    },
    {
      "cell_type": "code",
      "execution_count": 11,
      "metadata": {
        "colab": {
          "base_uri": "https://localhost:8080/"
        },
        "id": "bdQlXzcvaOOc",
        "outputId": "4d65400e-5ebb-45bc-e8fc-70f43a055ff0"
      },
      "outputs": [
        {
          "output_type": "stream",
          "name": "stdout",
          "text": [
            "Epoch 1/50\n",
            "782/782 [==============================] - 24s 17ms/step - loss: 1.4148 - accuracy: 0.5039 - val_loss: 1.2930 - val_accuracy: 0.5419 - lr: 0.0010\n",
            "Epoch 2/50\n",
            "782/782 [==============================] - 13s 16ms/step - loss: 1.2332 - accuracy: 0.5666 - val_loss: 1.2384 - val_accuracy: 0.5663 - lr: 0.0010\n",
            "Epoch 3/50\n",
            "782/782 [==============================] - 13s 16ms/step - loss: 1.1732 - accuracy: 0.5857 - val_loss: 1.1995 - val_accuracy: 0.5800 - lr: 0.0010\n",
            "Epoch 4/50\n",
            "782/782 [==============================] - 14s 18ms/step - loss: 1.1266 - accuracy: 0.6048 - val_loss: 1.1786 - val_accuracy: 0.5851 - lr: 0.0010\n",
            "Epoch 5/50\n",
            "782/782 [==============================] - 14s 18ms/step - loss: 1.0901 - accuracy: 0.6172 - val_loss: 1.1810 - val_accuracy: 0.5874 - lr: 0.0010\n",
            "Epoch 6/50\n",
            "782/782 [==============================] - 13s 17ms/step - loss: 1.0592 - accuracy: 0.6286 - val_loss: 1.1473 - val_accuracy: 0.5961 - lr: 0.0010\n",
            "Epoch 7/50\n",
            "782/782 [==============================] - 13s 17ms/step - loss: 1.0273 - accuracy: 0.6379 - val_loss: 1.1454 - val_accuracy: 0.6016 - lr: 0.0010\n",
            "Epoch 8/50\n",
            "782/782 [==============================] - 14s 17ms/step - loss: 1.0008 - accuracy: 0.6478 - val_loss: 1.1435 - val_accuracy: 0.5997 - lr: 0.0010\n",
            "Epoch 9/50\n",
            "782/782 [==============================] - 14s 18ms/step - loss: 0.9762 - accuracy: 0.6554 - val_loss: 1.1339 - val_accuracy: 0.6055 - lr: 0.0010\n",
            "Epoch 10/50\n",
            "782/782 [==============================] - 13s 17ms/step - loss: 0.9514 - accuracy: 0.6636 - val_loss: 1.1392 - val_accuracy: 0.6075 - lr: 0.0010\n",
            "Epoch 11/50\n",
            "782/782 [==============================] - 13s 17ms/step - loss: 0.9298 - accuracy: 0.6722 - val_loss: 1.1398 - val_accuracy: 0.6105 - lr: 0.0010\n",
            "Epoch 12/50\n",
            "782/782 [==============================] - 13s 17ms/step - loss: 0.9067 - accuracy: 0.6829 - val_loss: 1.1541 - val_accuracy: 0.6090 - lr: 0.0010\n",
            "Epoch 13/50\n",
            "782/782 [==============================] - 14s 18ms/step - loss: 0.8869 - accuracy: 0.6875 - val_loss: 1.1453 - val_accuracy: 0.6129 - lr: 0.0010\n",
            "Epoch 14/50\n",
            "782/782 [==============================] - 14s 17ms/step - loss: 0.8641 - accuracy: 0.6964 - val_loss: 1.1461 - val_accuracy: 0.6140 - lr: 0.0010\n",
            "Epoch 15/50\n",
            "782/782 [==============================] - 14s 17ms/step - loss: 0.8430 - accuracy: 0.7037 - val_loss: 1.1600 - val_accuracy: 0.6106 - lr: 0.0010\n",
            "Epoch 16/50\n",
            "782/782 [==============================] - 13s 17ms/step - loss: 0.8248 - accuracy: 0.7097 - val_loss: 1.1704 - val_accuracy: 0.6126 - lr: 0.0010\n",
            "Epoch 17/50\n",
            "780/782 [============================>.] - ETA: 0s - loss: 0.8079 - accuracy: 0.7165\n",
            "Epoch 17: ReduceLROnPlateau reducing learning rate to 0.0005000000237487257.\n",
            "782/782 [==============================] - 14s 18ms/step - loss: 0.8081 - accuracy: 0.7165 - val_loss: 1.1854 - val_accuracy: 0.6033 - lr: 0.0010\n",
            "Epoch 18/50\n",
            "782/782 [==============================] - 13s 17ms/step - loss: 0.7403 - accuracy: 0.7450 - val_loss: 1.1590 - val_accuracy: 0.6211 - lr: 5.0000e-04\n",
            "Epoch 19/50\n",
            "782/782 [==============================] - 13s 17ms/step - loss: 0.7245 - accuracy: 0.7507 - val_loss: 1.1392 - val_accuracy: 0.6234 - lr: 5.0000e-04\n",
            "Epoch 20/50\n",
            "782/782 [==============================] - 14s 17ms/step - loss: 0.7111 - accuracy: 0.7548 - val_loss: 1.1514 - val_accuracy: 0.6207 - lr: 5.0000e-04\n",
            "Epoch 21/50\n",
            "782/782 [==============================] - 14s 17ms/step - loss: 0.7009 - accuracy: 0.7590 - val_loss: 1.1800 - val_accuracy: 0.6139 - lr: 5.0000e-04\n",
            "Epoch 22/50\n",
            "781/782 [============================>.] - ETA: 0s - loss: 0.6893 - accuracy: 0.7624\n",
            "Epoch 22: ReduceLROnPlateau reducing learning rate to 0.0002500000118743628.\n",
            "782/782 [==============================] - 14s 19ms/step - loss: 0.6893 - accuracy: 0.7624 - val_loss: 1.1719 - val_accuracy: 0.6138 - lr: 5.0000e-04\n",
            "Epoch 23/50\n",
            "782/782 [==============================] - 14s 17ms/step - loss: 0.6535 - accuracy: 0.7793 - val_loss: 1.1592 - val_accuracy: 0.6242 - lr: 2.5000e-04\n",
            "Epoch 24/50\n",
            "782/782 [==============================] - 14s 17ms/step - loss: 0.6440 - accuracy: 0.7832 - val_loss: 1.1748 - val_accuracy: 0.6223 - lr: 2.5000e-04\n",
            "Epoch 25/50\n",
            "782/782 [==============================] - 13s 17ms/step - loss: 0.6382 - accuracy: 0.7847 - val_loss: 1.1690 - val_accuracy: 0.6245 - lr: 2.5000e-04\n",
            "Epoch 26/50\n",
            "782/782 [==============================] - 14s 18ms/step - loss: 0.6310 - accuracy: 0.7870 - val_loss: 1.1714 - val_accuracy: 0.6203 - lr: 2.5000e-04\n",
            "Epoch 27/50\n",
            "782/782 [==============================] - 13s 17ms/step - loss: 0.6257 - accuracy: 0.7893 - val_loss: 1.1748 - val_accuracy: 0.6232 - lr: 2.5000e-04\n",
            "Epoch 28/50\n",
            "782/782 [==============================] - 13s 17ms/step - loss: 0.6196 - accuracy: 0.7913 - val_loss: 1.1778 - val_accuracy: 0.6246 - lr: 2.5000e-04\n",
            "Epoch 29/50\n",
            "782/782 [==============================] - 14s 17ms/step - loss: 0.6135 - accuracy: 0.7954 - val_loss: 1.1837 - val_accuracy: 0.6224 - lr: 2.5000e-04\n",
            "Epoch 30/50\n",
            "782/782 [==============================] - 13s 17ms/step - loss: 0.6078 - accuracy: 0.7966 - val_loss: 1.1940 - val_accuracy: 0.6213 - lr: 2.5000e-04\n",
            "Epoch 31/50\n",
            "780/782 [============================>.] - ETA: 0s - loss: 0.6012 - accuracy: 0.7994\n",
            "Epoch 31: ReduceLROnPlateau reducing learning rate to 0.0001250000059371814.\n",
            "782/782 [==============================] - 14s 18ms/step - loss: 0.6012 - accuracy: 0.7994 - val_loss: 1.1927 - val_accuracy: 0.6227 - lr: 2.5000e-04\n",
            "Epoch 32/50\n",
            "782/782 [==============================] - 13s 17ms/step - loss: 0.5817 - accuracy: 0.8079 - val_loss: 1.1901 - val_accuracy: 0.6235 - lr: 1.2500e-04\n",
            "Epoch 33/50\n",
            "782/782 [==============================] - 14s 17ms/step - loss: 0.5780 - accuracy: 0.8098 - val_loss: 1.1940 - val_accuracy: 0.6241 - lr: 1.2500e-04\n",
            "Epoch 34/50\n",
            "779/782 [============================>.] - ETA: 0s - loss: 0.5750 - accuracy: 0.8112\n",
            "Epoch 34: ReduceLROnPlateau reducing learning rate to 6.25000029685907e-05.\n",
            "782/782 [==============================] - 14s 17ms/step - loss: 0.5751 - accuracy: 0.8111 - val_loss: 1.1982 - val_accuracy: 0.6222 - lr: 1.2500e-04\n",
            "Epoch 35/50\n",
            "782/782 [==============================] - 14s 19ms/step - loss: 0.5647 - accuracy: 0.8153 - val_loss: 1.1948 - val_accuracy: 0.6241 - lr: 6.2500e-05\n",
            "Epoch 36/50\n",
            "782/782 [==============================] - 13s 17ms/step - loss: 0.5626 - accuracy: 0.8176 - val_loss: 1.1926 - val_accuracy: 0.6259 - lr: 6.2500e-05\n",
            "Epoch 37/50\n",
            "782/782 [==============================] - 14s 17ms/step - loss: 0.5611 - accuracy: 0.8163 - val_loss: 1.1956 - val_accuracy: 0.6258 - lr: 6.2500e-05\n",
            "Epoch 38/50\n",
            "782/782 [==============================] - 13s 17ms/step - loss: 0.5591 - accuracy: 0.8174 - val_loss: 1.1987 - val_accuracy: 0.6247 - lr: 6.2500e-05\n",
            "Epoch 39/50\n",
            "781/782 [============================>.] - ETA: 0s - loss: 0.5577 - accuracy: 0.8182\n",
            "Epoch 39: ReduceLROnPlateau reducing learning rate to 3.125000148429535e-05.\n",
            "782/782 [==============================] - 14s 18ms/step - loss: 0.5577 - accuracy: 0.8182 - val_loss: 1.1991 - val_accuracy: 0.6248 - lr: 6.2500e-05\n",
            "Epoch 40/50\n",
            "782/782 [==============================] - 14s 17ms/step - loss: 0.5524 - accuracy: 0.8208 - val_loss: 1.1970 - val_accuracy: 0.6265 - lr: 3.1250e-05\n",
            "Epoch 41/50\n",
            "782/782 [==============================] - 14s 17ms/step - loss: 0.5514 - accuracy: 0.8213 - val_loss: 1.1994 - val_accuracy: 0.6262 - lr: 3.1250e-05\n",
            "Epoch 42/50\n",
            "782/782 [==============================] - 13s 17ms/step - loss: 0.5504 - accuracy: 0.8220 - val_loss: 1.1988 - val_accuracy: 0.6242 - lr: 3.1250e-05\n",
            "Epoch 43/50\n",
            "781/782 [============================>.] - ETA: 0s - loss: 0.5496 - accuracy: 0.8220\n",
            "Epoch 43: ReduceLROnPlateau reducing learning rate to 1.5625000742147677e-05.\n",
            "782/782 [==============================] - 14s 17ms/step - loss: 0.5496 - accuracy: 0.8219 - val_loss: 1.1990 - val_accuracy: 0.6250 - lr: 3.1250e-05\n",
            "Epoch 44/50\n",
            "782/782 [==============================] - 14s 18ms/step - loss: 0.5469 - accuracy: 0.8236 - val_loss: 1.2000 - val_accuracy: 0.6232 - lr: 1.5625e-05\n",
            "Epoch 45/50\n",
            "782/782 [==============================] - 14s 18ms/step - loss: 0.5461 - accuracy: 0.8233 - val_loss: 1.2008 - val_accuracy: 0.6245 - lr: 1.5625e-05\n",
            "Epoch 46/50\n",
            "782/782 [==============================] - ETA: 0s - loss: 0.5458 - accuracy: 0.8244\n",
            "Epoch 46: ReduceLROnPlateau reducing learning rate to 1e-05.\n",
            "782/782 [==============================] - 14s 17ms/step - loss: 0.5458 - accuracy: 0.8244 - val_loss: 1.2014 - val_accuracy: 0.6238 - lr: 1.5625e-05\n",
            "Epoch 47/50\n",
            "782/782 [==============================] - 13s 17ms/step - loss: 0.5447 - accuracy: 0.8234 - val_loss: 1.2007 - val_accuracy: 0.6244 - lr: 1.0000e-05\n",
            "Epoch 48/50\n",
            "782/782 [==============================] - 14s 17ms/step - loss: 0.5444 - accuracy: 0.8242 - val_loss: 1.2008 - val_accuracy: 0.6242 - lr: 1.0000e-05\n",
            "Epoch 49/50\n",
            "782/782 [==============================] - 13s 17ms/step - loss: 0.5440 - accuracy: 0.8245 - val_loss: 1.2011 - val_accuracy: 0.6241 - lr: 1.0000e-05\n",
            "Epoch 50/50\n",
            "782/782 [==============================] - 13s 17ms/step - loss: 0.5438 - accuracy: 0.8244 - val_loss: 1.2015 - val_accuracy: 0.6245 - lr: 1.0000e-05\n"
          ]
        },
        {
          "output_type": "execute_result",
          "data": {
            "text/plain": [
              "<keras.callbacks.History at 0x7f79b912cb20>"
            ]
          },
          "metadata": {},
          "execution_count": 11
        }
      ],
      "source": [
        "model.fit(x_train, y_train, batch_size=64, epochs=50, validation_data=(x_test, y_test), callbacks=[learning_rate_reduction])"
      ]
    },
    {
      "cell_type": "code",
      "execution_count": 12,
      "metadata": {
        "id": "6XlRc7XRbuEc"
      },
      "outputs": [],
      "source": [
        "import pandas as pd\n",
        "metrics = pd.DataFrame(model.history.history)"
      ]
    },
    {
      "cell_type": "code",
      "execution_count": 13,
      "metadata": {
        "colab": {
          "base_uri": "https://localhost:8080/",
          "height": 447
        },
        "id": "ae78v4FqHoKb",
        "outputId": "bcc62052-a5a8-4a08-cb75-1485303a15a8"
      },
      "outputs": [
        {
          "output_type": "execute_result",
          "data": {
            "text/plain": [
              "<Axes: >"
            ]
          },
          "metadata": {},
          "execution_count": 13
        },
        {
          "output_type": "display_data",
          "data": {
            "text/plain": [
              "<Figure size 640x480 with 1 Axes>"
            ],
            "image/png": "[encoded data removed]"
          },
          "metadata": {}
        }
      ],
      "source": [
        "metrics[['loss','val_loss']].plot()"
      ]
    },
    {
      "cell_type": "code",
      "execution_count": 14,
      "metadata": {
        "colab": {
          "base_uri": "https://localhost:8080/",
          "height": 447
        },
        "id": "a0ZguP5zr_be",
        "outputId": "5fbed47b-2d5e-49b5-d939-cc95cf96f18d"
      },
      "outputs": [
        {
          "output_type": "execute_result",
          "data": {
            "text/plain": [
              "<Axes: >"
            ]
          },
          "metadata": {},
          "execution_count": 14
        },
        {
          "output_type": "display_data",
          "data": {
            "text/plain": [
              "<Figure size 640x480 with 1 Axes>"
            ],
            "image/png": "[encoded data removed]"
          },
          "metadata": {}
        }
      ],
      "source": [
        "metrics[['accuracy','val_accuracy']].plot()"
      ]
    },
    {
      "cell_type": "code",
      "execution_count": 15,
      "metadata": {
        "id": "YPb8loIOcfL0",
        "colab": {
          "base_uri": "https://localhost:8080/"
        },
        "outputId": "a823b337-54e6-4e69-cbea-c66f276dfdbd"
      },
      "outputs": [
        {
          "output_type": "stream",
          "name": "stdout",
          "text": [
            "313/313 [==============================] - 3s 9ms/step\n"
          ]
        }
      ],
      "source": [
        "import numpy as np\n",
        "from sklearn.metrics import confusion_matrix, classification_report\n",
        "x_test_predictions = np.argmax(model.predict(x_test), axis=1)"
      ]
    },
    {
      "cell_type": "code",
      "execution_count": 16,
      "metadata": {
        "id": "CmYFzXlCc66c",
        "colab": {
          "base_uri": "https://localhost:8080/"
        },
        "outputId": "81da66f5-75c8-4d3c-e548-222007cda4bf"
      },
      "outputs": [
        {
          "output_type": "stream",
          "name": "stdout",
          "text": [
            "[[721  29  49  19  19  12  11  16  91  33]\n",
            " [ 30 695  16  29  11  13  17  12  44 133]\n",
            " [ 63  16 513  85  84  62 100  40  25  12]\n",
            " [ 17  44  73 459  51 142  91  45  32  46]\n",
            " [ 28  19  71  65 565  54  88  73  20  17]\n",
            " [ 16  26  65 166  55 522  58  65   7  20]\n",
            " [  7  19  55  59  70  51 699  10  18  12]\n",
            " [ 20  15  47  51  76  59  16 682   8  26]\n",
            " [ 85  65  18  22  17   7   9   8 724  45]\n",
            " [ 40 128   9  26   8  24  23  26  51 665]]\n",
            "              precision    recall  f1-score   support\n",
            "\n",
            "           0       0.70      0.72      0.71      1000\n",
            "           1       0.66      0.69      0.68      1000\n",
            "           2       0.56      0.51      0.54      1000\n",
            "           3       0.47      0.46      0.46      1000\n",
            "           4       0.59      0.56      0.58      1000\n",
            "           5       0.55      0.52      0.54      1000\n",
            "           6       0.63      0.70      0.66      1000\n",
            "           7       0.70      0.68      0.69      1000\n",
            "           8       0.71      0.72      0.72      1000\n",
            "           9       0.66      0.67      0.66      1000\n",
            "\n",
            "    accuracy                           0.62     10000\n",
            "   macro avg       0.62      0.62      0.62     10000\n",
            "weighted avg       0.62      0.62      0.62     10000\n",
            "\n"
          ]
        }
      ],
      "source": [
        "print(confusion_matrix(y_test,x_test_predictions))\n",
        "print(classification_report(y_test,x_test_predictions))"
      ]
    },
    {
      "cell_type": "code",
      "execution_count": 16,
      "metadata": {
        "id": "1C-Hg6Hxr_bf"
      },
      "outputs": [],
      "source": []
    },
    {
      "cell_type": "markdown",
      "metadata": {
        "id": "AtP-AnVir_bf"
      },
      "source": []
    }
  ],
  "metadata": {
    "accelerator": "GPU",
    "colab": {
      "provenance": []
    },
    "kernelspec": {
      "display_name": "Python 3",
      "name": "python3"
    },
    "language_info": {
      "name": "python"
    }
  },
  "nbformat": 4,
  "nbformat_minor": 0
}